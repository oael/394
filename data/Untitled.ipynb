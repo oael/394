{
 "cells": [
  {
   "cell_type": "code",
   "execution_count": 1,
   "metadata": {
    "ExecuteTime": {
     "end_time": "2019-07-30T13:32:24.216257Z",
     "start_time": "2019-07-30T13:32:21.971213Z"
    }
   },
   "outputs": [],
   "source": [
    "import pandas as pd\n",
    "import numpy as np"
   ]
  },
  {
   "cell_type": "code",
   "execution_count": 31,
   "metadata": {
    "ExecuteTime": {
     "end_time": "2019-07-30T13:37:48.278336Z",
     "start_time": "2019-07-30T13:37:48.262576Z"
    }
   },
   "outputs": [
    {
     "data": {
      "text/html": [
       "<div>\n",
       "<style scoped>\n",
       "    .dataframe tbody tr th:only-of-type {\n",
       "        vertical-align: middle;\n",
       "    }\n",
       "\n",
       "    .dataframe tbody tr th {\n",
       "        vertical-align: top;\n",
       "    }\n",
       "\n",
       "    .dataframe thead th {\n",
       "        text-align: right;\n",
       "    }\n",
       "</style>\n",
       "<table border=\"1\" class=\"dataframe\">\n",
       "  <thead>\n",
       "    <tr style=\"text-align: right;\">\n",
       "      <th></th>\n",
       "      <th>x</th>\n",
       "      <th>z</th>\n",
       "    </tr>\n",
       "  </thead>\n",
       "  <tbody>\n",
       "    <tr>\n",
       "      <th>0</th>\n",
       "      <td>18.896428</td>\n",
       "      <td>56.689285</td>\n",
       "    </tr>\n",
       "    <tr>\n",
       "      <th>1</th>\n",
       "      <td>3.000499</td>\n",
       "      <td>9.001496</td>\n",
       "    </tr>\n",
       "    <tr>\n",
       "      <th>2</th>\n",
       "      <td>49.684048</td>\n",
       "      <td>149.052144</td>\n",
       "    </tr>\n",
       "    <tr>\n",
       "      <th>3</th>\n",
       "      <td>33.631917</td>\n",
       "      <td>100.895752</td>\n",
       "    </tr>\n",
       "    <tr>\n",
       "      <th>4</th>\n",
       "      <td>28.038111</td>\n",
       "      <td>84.114332</td>\n",
       "    </tr>\n",
       "  </tbody>\n",
       "</table>\n",
       "</div>"
      ],
      "text/plain": [
       "           x           z\n",
       "0  18.896428   56.689285\n",
       "1   3.000499    9.001496\n",
       "2  49.684048  149.052144\n",
       "3  33.631917  100.895752\n",
       "4  28.038111   84.114332"
      ]
     },
     "execution_count": 31,
     "metadata": {},
     "output_type": "execute_result"
    }
   ],
   "source": [
    "a = np.array([np.random.uniform(1, 50) for x in range(50)])\n",
    "b = a*2\n",
    "c = a+b\n",
    "d = b*4\n",
    "df1 = pd.DataFrame({'a': a, 'b': b, 'c': c, 'd': d})\n",
    "df2 = pd.DataFrame({'x': df1.a, 'z': df1.c})\n",
    "df2.head()"
   ]
  },
  {
   "cell_type": "code",
   "execution_count": 55,
   "metadata": {
    "ExecuteTime": {
     "end_time": "2019-07-30T13:42:05.741614Z",
     "start_time": "2019-07-30T13:42:05.736933Z"
    }
   },
   "outputs": [
    {
     "data": {
      "text/plain": [
       "0     18.896428\n",
       "1      3.000499\n",
       "2     49.684048\n",
       "3     33.631917\n",
       "4     28.038111\n",
       "5     13.081952\n",
       "6     22.778927\n",
       "7     18.941213\n",
       "8     18.578803\n",
       "9     47.359423\n",
       "10    31.552276\n",
       "11     2.881561\n",
       "12    28.806910\n",
       "13     2.561983\n",
       "14    20.546666\n",
       "15    12.388533\n",
       "16    36.418345\n",
       "17    28.985262\n",
       "18    28.896447\n",
       "19    32.373300\n",
       "20    32.990030\n",
       "21     7.492979\n",
       "22    36.501552\n",
       "23    25.055775\n",
       "24    32.458496\n",
       "25    45.303274\n",
       "26    17.016028\n",
       "27    49.624639\n",
       "28     7.832713\n",
       "29     3.740068\n",
       "30    24.415903\n",
       "31    26.552306\n",
       "32     6.820086\n",
       "33     2.009532\n",
       "34    36.189018\n",
       "35    12.201166\n",
       "36     8.807943\n",
       "37    12.334496\n",
       "38    41.253233\n",
       "39    11.827629\n",
       "40     9.574618\n",
       "41     3.213946\n",
       "42    12.392230\n",
       "43    16.886697\n",
       "44     7.034608\n",
       "45    40.449823\n",
       "46    44.982955\n",
       "47    42.405752\n",
       "48    27.856169\n",
       "49    45.629070\n",
       "Name: a, dtype: float64"
      ]
     },
     "execution_count": 55,
     "metadata": {},
     "output_type": "execute_result"
    }
   ],
   "source": [
    "df1[str]#.equals(df2.z)"
   ]
  },
  {
   "cell_type": "code",
   "execution_count": 32,
   "metadata": {
    "ExecuteTime": {
     "end_time": "2019-07-30T13:38:27.382875Z",
     "start_time": "2019-07-30T13:38:27.373416Z"
    }
   },
   "outputs": [
    {
     "name": "stdout",
     "output_type": "stream",
     "text": [
      "a\n",
      "b\n",
      "c\n",
      "d\n"
     ]
    }
   ],
   "source": [
    "columns = {}\n",
    "for col in df2:\n",
    "    if "
   ]
  }
 ],
 "metadata": {
  "kernelspec": {
   "display_name": "Python 3",
   "language": "python",
   "name": "python3"
  },
  "language_info": {
   "codemirror_mode": {
    "name": "ipython",
    "version": 3
   },
   "file_extension": ".py",
   "mimetype": "text/x-python",
   "name": "python",
   "nbconvert_exporter": "python",
   "pygments_lexer": "ipython3",
   "version": "3.7.3"
  }
 },
 "nbformat": 4,
 "nbformat_minor": 2
}
